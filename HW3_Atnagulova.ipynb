{
 "cells": [
  {
   "cell_type": "code",
   "execution_count": 7,
   "metadata": {
    "collapsed": true
   },
   "outputs": [],
   "source": [
    "import nltk\n",
    "from nltk.collocations import *\n",
    "from nltk.stem import WordNetLemmatizer\n",
    "import re\n",
    "bigram_measures = nltk.collocations.BigramAssocMeasures()\n",
    "trigram_measures = nltk.collocations.TrigramAssocMeasures()"
   ]
  },
  {
   "cell_type": "code",
   "execution_count": 33,
   "metadata": {
    "collapsed": true
   },
   "outputs": [
    {
     "data": {
      "text/plain": [
       "['Губернаторы',\n",
       " 'отвыкли',\n",
       " 'от',\n",
       " 'публичной',\n",
       " 'политики',\n",
       " 'и',\n",
       " 'их',\n",
       " 'придется',\n",
       " 'учить',\n",
       " 'общаться',\n",
       " 'с',\n",
       " 'избирателями',\n",
       " '—',\n",
       " 'об',\n",
       " 'этом',\n",
       " 'говорили',\n",
       " 'на',\n",
       " 'встрече',\n",
       " 'в',\n",
       " 'Кремле',\n",
       " 'с',\n",
       " 'политологами',\n",
       " 'Вячеслав',\n",
       " 'Володин',\n",
       " 'и',\n",
       " 'другие',\n",
       " 'кураторы',\n",
       " 'внутренней',\n",
       " 'политики',\n",
       " 'Но',\n",
       " 'недовольство',\n",
       " 'руководства',\n",
       " 'страны',\n",
       " 'вызывают',\n",
       " 'только',\n",
       " 'главы',\n",
       " 'тех',\n",
       " 'регионов',\n",
       " 'где',\n",
       " 'нет',\n",
       " 'реальной',\n",
       " 'угрозы',\n",
       " 'власти',\n",
       " 'объясняет',\n",
       " 'участник',\n",
       " 'встречи',\n",
       " 'С',\n",
       " 'реальными',\n",
       " 'оппонентами',\n",
       " 'местных',\n",
       " 'властей',\n",
       " 'Кремль',\n",
       " 'сам',\n",
       " 'помогает',\n",
       " 'бороться',\n",
       " 'На',\n",
       " 'встречу',\n",
       " 'с',\n",
       " 'первым',\n",
       " 'замглавы',\n",
       " 'администрации',\n",
       " 'президента',\n",
       " 'Вячеславом',\n",
       " 'Володиным',\n",
       " 'пригласили',\n",
       " 'около',\n",
       " '30',\n",
       " 'политологов',\n",
       " 'в',\n",
       " 'первую',\n",
       " 'очередь',\n",
       " 'тех',\n",
       " 'кто',\n",
       " 'назначен',\n",
       " 'Кремлем',\n",
       " 'наблюдать',\n",
       " 'за',\n",
       " 'ходом',\n",
       " 'избирательных',\n",
       " 'кампаний',\n",
       " 'на',\n",
       " 'местах',\n",
       " 'рассказали',\n",
       " 'РБК',\n",
       " 'несколько',\n",
       " 'участников',\n",
       " 'встречи',\n",
       " 'По',\n",
       " 'словам',\n",
       " 'собеседников',\n",
       " 'от',\n",
       " 'администрации',\n",
       " 'президента',\n",
       " 'помимо',\n",
       " 'Володина',\n",
       " 'были',\n",
       " 'еще',\n",
       " 'руководитель',\n",
       " 'внутренней',\n",
       " 'политики']"
      ]
     },
     "execution_count": 33,
     "metadata": {},
     "output_type": "execute_result"
    }
   ],
   "source": [
    "punct = '.,!?():;«»'\n",
    "#корпус про судебные разбирательства, 174723 токенов\n",
    "with open('news.txt', 'r', encoding='utf-8') as f:\n",
    "    text = f.read()\n",
    "words = text.split()\n",
    "words = [word.strip(punct) for word in words]\n",
    "words[:100]"
   ]
  },
  {
   "cell_type": "code",
   "execution_count": 15,
   "metadata": {},
   "outputs": [],
   "source": [
    "lmtzr = WordNetLemmatizer()\n",
    "words_tagged = []\n",
    "for word in words:\n",
    "    tagged = lmtzr.lemmatize(word)\n",
    "    words_tagged.append(tagged)"
   ]
  },
  {
   "cell_type": "code",
   "execution_count": 34,
   "metadata": {
    "collapsed": true
   },
   "outputs": [],
   "source": [
    "finder = BigramCollocationFinder.from_words(words_tagged)"
   ]
  },
  {
   "cell_type": "code",
   "execution_count": 82,
   "metadata": {},
   "outputs": [
    {
     "name": "stdout",
     "output_type": "stream",
     "text": [
      "[('млрд', 'руб.'), ('млрд', 'руб.,'), ('Кроме', 'того,'), ('главный', 'экономист'), ('точки', 'зрения'), ('сказал', 'РБК'), ('источник,', 'близкий'), ('млн', 'руб.'), ('АФК', '«Система»'), ('рассказал', 'РБК')]\n"
     ]
    }
   ],
   "source": [
    "#First metric Likelihood Ratio, bigrams with frequency >=3\n",
    "#ни одна из коллокаций в топ-10 не вошла в мой ЗС, из топ-10 хорошими коллокациями я считаю ('млрд', 'руб.'), \n",
    "#('Кроме', 'того,'), ('главный', 'экономист'), ('точки', 'зрения'), ('сказал', 'РБК'), ('рассказал', 'РБК'), ('млн', 'руб.')\n",
    "#из моего ЗС в топ-10000 попали 6 коллокаций\n",
    "stopwords = nltk.corpus.stopwords.words('russian')\n",
    "finder.apply_word_filter(lambda w: len(w) < 3 or w.lower() in stopwords)\n",
    "print(finder.nbest(bigram_measures.likelihood_ratio, 10))\n",
    "lhr = finder.nbest(bigram_measures.likelihood_ratio, 10000)"
   ]
  },
  {
   "cell_type": "code",
   "execution_count": 84,
   "metadata": {},
   "outputs": [
    {
     "name": "stdout",
     "output_type": "stream",
     "text": [
      "[('«Российским', 'железным'), ('«негативный', 'консенсус»'), ('Белорусской', 'калийной'), ('железным', 'дорогам»'), ('сберегательные', 'сертификаты'), ('свободное', 'плавание'), ('«Петербургская', 'политика»'), ('«Фольксваген', 'Груп'), ('Груп', 'Рус»'), ('Общероссийского', 'народного')]\n"
     ]
    }
   ],
   "source": [
    "#Second metric  PMI, bigrams with frequency >=3 and only Russian words\n",
    "#ни одна из коллокаций в топ-10 не вошла в мой ЗС, из топ-10 хорошими коллокациями я считаю  ('железным', 'дорогам»'), \n",
    "#('сберегательные', 'сертификаты'), ('свободное', 'плавание'), ('«Петербургская', 'политика»'), ('«Фольксваген', 'Груп'),\n",
    "#('«негативный', 'консенсус»')\n",
    "#из моего ЗС в топ-10000 попали 6 коллокаций\n",
    "stopwords = nltk.corpus.stopwords.words('russian')\n",
    "finder.apply_word_filter(lambda w: len(w) < 3 or re.search('[а-яё]+', w.lower()) is None or w.lower() in stopwords)\n",
    "finder.apply_freq_filter(3)\n",
    "print(finder.nbest(bigram_measures.pmi, 10))\n",
    "pmi = finder.nbest(bigram_measures.pmi, 10000)"
   ]
  },
  {
   "cell_type": "code",
   "execution_count": 72,
   "metadata": {
    "collapsed": true
   },
   "outputs": [],
   "source": [
    "#Мой ЗС\n",
    "from nltk.metrics.spearman import *\n",
    "results_list = [('официальный', 'представитель'), ('заявил', 'премьер-министр'), ('со', 'стороны'), ('Центральный', 'банк'), \n",
    "                ('сообщил', 'РБК'), ('решение', 'суда'), ('развитие', 'системы'), ('условиях', 'санкций'), \n",
    "                ('противном', 'случае'), ('размещать', 'средства')]"
   ]
  },
  {
   "cell_type": "code",
   "execution_count": 79,
   "metadata": {
    "scrolled": true
   },
   "outputs": [
    {
     "name": "stdout",
     "output_type": "stream",
     "text": [
      "lhr ('официальный', 'представитель') 360\n",
      "pmi ('официальный', 'представитель') 1306\n",
      "lhr ('Центральный', 'банк') 912\n",
      "pmi ('Центральный', 'банк') 1080\n",
      "lhr ('сообщил', 'РБК') 32\n",
      "pmi ('сообщил', 'РБК') 1720\n",
      "lhr ('решение', 'суда') 1780\n",
      "pmi ('решение', 'суда') 1619\n",
      "lhr ('условиях', 'санкций') 849\n",
      "pmi ('условиях', 'санкций') 1603\n",
      "lhr ('противном', 'случае') 1413\n",
      "pmi ('противном', 'случае') 1106\n"
     ]
    }
   ],
   "source": [
    "#Посмотрите, какую позицию занимают коллокации из золотого стандарта среди списка, отранжированного \n",
    "#по мере коллокационной связи.\n",
    "for coll in results_list:\n",
    "    if coll in lhr:\n",
    "        print ('lhr', coll, lhr.index(coll))\n",
    "    if coll in pmi:\n",
    "        print ('pmi', coll, pmi.index(coll))"
   ]
  },
  {
   "cell_type": "code",
   "execution_count": 80,
   "metadata": {},
   "outputs": [
    {
     "name": "stdout",
     "output_type": "stream",
     "text": [
      "-194007.0\n"
     ]
    }
   ],
   "source": [
    "#Spearman with first metrik's 10000 best\n",
    "\n",
    "print('%0.1f' % spearman_correlation(ranks_from_sequence(results_list), ranks_from_sequence(lhr)))"
   ]
  },
  {
   "cell_type": "code",
   "execution_count": 81,
   "metadata": {},
   "outputs": [
    {
     "name": "stdout",
     "output_type": "stream",
     "text": [
      "-347657.2\n"
     ]
    }
   ],
   "source": [
    "#Spearman with second metrik's 10000 best\n",
    "print('%0.1f' % spearman_correlation(ranks_from_sequence(results_list), ranks_from_sequence(pmi)))"
   ]
  }
 ],
 "metadata": {
  "kernelspec": {
   "display_name": "Python 3",
   "language": "python",
   "name": "python3"
  },
  "language_info": {
   "codemirror_mode": {
    "name": "ipython",
    "version": 3
   },
   "file_extension": ".py",
   "mimetype": "text/x-python",
   "name": "python",
   "nbconvert_exporter": "python",
   "pygments_lexer": "ipython3",
   "version": "3.6.2"
  }
 },
 "nbformat": 4,
 "nbformat_minor": 2
}
